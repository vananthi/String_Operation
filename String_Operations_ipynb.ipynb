{
  "cells": [
    {
      "cell_type": "markdown",
      "metadata": {
        "id": "view-in-github",
        "colab_type": "text"
      },
      "source": [
        "<a href=\"https://colab.research.google.com/github/vananthi/String_Operation/blob/main/String_Operations_ipynb.ipynb\" target=\"_parent\"><img src=\"https://colab.research.google.com/assets/colab-badge.svg\" alt=\"Open In Colab\"/></a>"
      ]
    },
    {
      "cell_type": "code",
      "execution_count": null,
      "metadata": {
        "id": "v3nlyysbcnP5"
      },
      "outputs": [],
      "source": [
        "a='The'\n",
        "b='Red'\n",
        "c='Rose'"
      ]
    },
    {
      "cell_type": "code",
      "execution_count": null,
      "metadata": {
        "id": "B_L8Ejw0cnP8",
        "outputId": "241fc9f9-3d21-42fa-a7f8-e5387e5dc5f0",
        "colab": {
          "base_uri": "https://localhost:8080/"
        }
      },
      "outputs": [
        {
          "output_type": "stream",
          "name": "stdout",
          "text": [
            "The\n",
            "Red\n",
            "Rose\n"
          ]
        }
      ],
      "source": [
        "print(a)\n",
        "print(b)\n",
        "print(c)"
      ]
    },
    {
      "cell_type": "code",
      "execution_count": null,
      "metadata": {
        "id": "ECWtNxp2cnP-",
        "outputId": "c7c276a4-8a27-414f-d1b9-cb012052f179",
        "colab": {
          "base_uri": "https://localhost:8080/"
        }
      },
      "outputs": [
        {
          "output_type": "execute_result",
          "data": {
            "text/plain": [
              "4"
            ]
          },
          "metadata": {},
          "execution_count": 5
        }
      ],
      "source": [
        "len(c)"
      ]
    },
    {
      "cell_type": "code",
      "source": [
        "a # left : positive indexing   right : negative"
      ],
      "metadata": {
        "id": "37i9v19md9ND",
        "outputId": "df0d62fe-ca14-42a1-b5e6-d4506e365bc4",
        "colab": {
          "base_uri": "https://localhost:8080/",
          "height": 36
        }
      },
      "execution_count": null,
      "outputs": [
        {
          "output_type": "execute_result",
          "data": {
            "text/plain": [
              "'The'"
            ],
            "application/vnd.google.colaboratory.intrinsic+json": {
              "type": "string"
            }
          },
          "metadata": {},
          "execution_count": 4
        }
      ]
    },
    {
      "cell_type": "code",
      "execution_count": null,
      "metadata": {
        "id": "rFU5xKe6cnP-",
        "outputId": "aac1bd45-2b84-48a5-c663-2c76fd669cd8",
        "colab": {
          "base_uri": "https://localhost:8080/",
          "height": 36
        }
      },
      "outputs": [
        {
          "output_type": "execute_result",
          "data": {
            "text/plain": [
              "'e'"
            ],
            "application/vnd.google.colaboratory.intrinsic+json": {
              "type": "string"
            }
          },
          "metadata": {},
          "execution_count": 6
        }
      ],
      "source": [
        "a[-1]  # stringindexing"
      ]
    },
    {
      "cell_type": "code",
      "source": [
        "a = 'Ananthipandiyan' # white space is character in python"
      ],
      "metadata": {
        "id": "6b4r8-B6eamx"
      },
      "execution_count": null,
      "outputs": []
    },
    {
      "cell_type": "code",
      "source": [
        "len(a)"
      ],
      "metadata": {
        "id": "FC-zzm5aefJI",
        "outputId": "b6a0505d-f312-42f6-9dc8-92d9f04f4420",
        "colab": {
          "base_uri": "https://localhost:8080/"
        }
      },
      "execution_count": null,
      "outputs": [
        {
          "output_type": "execute_result",
          "data": {
            "text/plain": [
              "15"
            ]
          },
          "metadata": {},
          "execution_count": 10
        }
      ]
    },
    {
      "cell_type": "code",
      "source": [
        "a[5:10] # str slicing"
      ],
      "metadata": {
        "id": "1GUghKhCe1-H",
        "outputId": "c207adae-4527-4ccc-cbff-3ae3b4c20c84",
        "colab": {
          "base_uri": "https://localhost:8080/",
          "height": 36
        }
      },
      "execution_count": null,
      "outputs": [
        {
          "output_type": "execute_result",
          "data": {
            "text/plain": [
              "'hipan'"
            ],
            "application/vnd.google.colaboratory.intrinsic+json": {
              "type": "string"
            }
          },
          "metadata": {},
          "execution_count": 11
        }
      ]
    },
    {
      "cell_type": "code",
      "execution_count": null,
      "metadata": {
        "id": "5vSxkJNFcnP_",
        "colab": {
          "base_uri": "https://localhost:8080/",
          "height": 36
        },
        "outputId": "add55412-7b5d-4e37-c384-743a789c7e30"
      },
      "outputs": [
        {
          "output_type": "execute_result",
          "data": {
            "text/plain": [
              "'n'"
            ],
            "application/vnd.google.colaboratory.intrinsic+json": {
              "type": "string"
            }
          },
          "metadata": {},
          "execution_count": 14
        }
      ],
      "source": [
        "a[-1]"
      ]
    },
    {
      "cell_type": "markdown",
      "metadata": {
        "id": "SQ2gjdjRcnQF"
      },
      "source": [
        "#### Concatination"
      ]
    },
    {
      "cell_type": "code",
      "execution_count": null,
      "metadata": {
        "id": "KGB7AfN7cnQF",
        "outputId": "409be82a-e4b1-418a-dbe3-4619945931f8",
        "colab": {
          "base_uri": "https://localhost:8080/"
        }
      },
      "outputs": [
        {
          "output_type": "stream",
          "name": "stdout",
          "text": [
            "ramverma\n",
            "ram  verma\n"
          ]
        }
      ],
      "source": [
        "first_name = \"ram\"\n",
        "last_name = \"verma\"\n",
        "\n",
        "print(first_name + last_name)\n",
        "print(first_name +'  '+last_name)"
      ]
    },
    {
      "cell_type": "markdown",
      "metadata": {
        "id": "lN4oVaChcnQH"
      },
      "source": [
        "#### Slicing\n",
        "##### string[start:end:step]"
      ]
    },
    {
      "cell_type": "code",
      "execution_count": null,
      "metadata": {
        "id": "jackh43pcnQH",
        "outputId": "0d3b89f6-3489-44c9-c452-bac706bcb475",
        "colab": {
          "base_uri": "https://localhost:8080/",
          "height": 36
        }
      },
      "outputs": [
        {
          "output_type": "execute_result",
          "data": {
            "text/plain": [
              "'el ol'"
            ],
            "application/vnd.google.colaboratory.intrinsic+json": {
              "type": "string"
            }
          },
          "metadata": {},
          "execution_count": 21
        }
      ],
      "source": [
        "string = \"hello world\"\n",
        "string[1::2]"
      ]
    },
    {
      "cell_type": "code",
      "execution_count": null,
      "metadata": {
        "id": "NiWLmbmYcnQI"
      },
      "outputs": [],
      "source": [
        "string = 'Hello World'"
      ]
    },
    {
      "cell_type": "code",
      "execution_count": null,
      "metadata": {
        "id": "gjwJAB9RcnQJ",
        "outputId": "6b04bbcc-193b-4638-f8a7-ff52d799f55f",
        "colab": {
          "base_uri": "https://localhost:8080/",
          "height": 36
        }
      },
      "outputs": [
        {
          "output_type": "execute_result",
          "data": {
            "text/plain": [
              "'wor'"
            ],
            "application/vnd.google.colaboratory.intrinsic+json": {
              "type": "string"
            }
          },
          "metadata": {},
          "execution_count": 24
        }
      ],
      "source": [
        "string[-5:-2]"
      ]
    },
    {
      "cell_type": "code",
      "execution_count": null,
      "metadata": {
        "id": "zcsw0OFYcnQK",
        "outputId": "838be316-3e01-456d-ce95-9e0ba0bb84f0"
      },
      "outputs": [
        {
          "name": "stdout",
          "output_type": "stream",
          "text": [
            "9 girls \n"
          ]
        }
      ],
      "source": [
        "class_students = \"9 girls 3 boys are in the class\"\n",
        "girls = class_students[:8]\n",
        "print(girls)"
      ]
    },
    {
      "cell_type": "code",
      "execution_count": null,
      "metadata": {
        "id": "NlpivSQWcnQK"
      },
      "outputs": [],
      "source": [
        "String = 'Raj! Did you attend the class today?'"
      ]
    },
    {
      "cell_type": "code",
      "execution_count": null,
      "metadata": {
        "id": "ntGuitRTcnQK",
        "outputId": "f3028994-4269-4b87-ac5e-40c153ab76c1"
      },
      "outputs": [
        {
          "name": "stdout",
          "output_type": "stream",
          "text": [
            "Raj! Did you attend the class today?\n"
          ]
        }
      ],
      "source": [
        "print(String)"
      ]
    },
    {
      "cell_type": "code",
      "execution_count": null,
      "metadata": {
        "id": "P5u5GPxocnQL",
        "outputId": "759096e3-7de4-42a1-be75-51802394f900"
      },
      "outputs": [
        {
          "name": "stdout",
          "output_type": "stream",
          "text": [
            "True\n"
          ]
        }
      ],
      "source": [
        "print('Raj' in String)"
      ]
    },
    {
      "cell_type": "code",
      "execution_count": null,
      "metadata": {
        "id": "v-vc_fzPcnQN",
        "outputId": "55f1f9ff-406c-46a5-c248-f4cf3f5f2f13"
      },
      "outputs": [
        {
          "name": "stdout",
          "output_type": "stream",
          "text": [
            "False\n"
          ]
        }
      ],
      "source": [
        "print('John' in String)"
      ]
    },
    {
      "cell_type": "code",
      "execution_count": null,
      "metadata": {
        "id": "plIlL5tScnQP",
        "outputId": "40a5e1b7-c899-46eb-fd38-a7745abf496a",
        "colab": {
          "base_uri": "https://localhost:8080/",
          "height": 200
        }
      },
      "outputs": [
        {
          "output_type": "error",
          "ename": "TypeError",
          "evalue": "ignored",
          "traceback": [
            "\u001b[0;31m---------------------------------------------------------------------------\u001b[0m",
            "\u001b[0;31mTypeError\u001b[0m                                 Traceback (most recent call last)",
            "\u001b[0;32m<ipython-input-22-9ceb43e26055>\u001b[0m in \u001b[0;36m<cell line: 2>\u001b[0;34m()\u001b[0m\n\u001b[1;32m      1\u001b[0m \u001b[0mString\u001b[0m \u001b[0;34m=\u001b[0m \u001b[0;34m'abcd'\u001b[0m\u001b[0;34m\u001b[0m\u001b[0;34m\u001b[0m\u001b[0m\n\u001b[0;32m----> 2\u001b[0;31m \u001b[0mprint\u001b[0m\u001b[0;34m(\u001b[0m\u001b[0mString\u001b[0m\u001b[0;34m**\u001b[0m\u001b[0;36m4\u001b[0m\u001b[0;34m)\u001b[0m\u001b[0;34m\u001b[0m\u001b[0;34m\u001b[0m\u001b[0m\n\u001b[0m",
            "\u001b[0;31mTypeError\u001b[0m: unsupported operand type(s) for ** or pow(): 'str' and 'int'"
          ]
        }
      ],
      "source": [
        "String = 'abcd'\n",
        "print(String**4)"
      ]
    },
    {
      "cell_type": "code",
      "source": [
        "a = 891"
      ],
      "metadata": {
        "id": "U8HwTSd2huCA"
      },
      "execution_count": null,
      "outputs": []
    },
    {
      "cell_type": "code",
      "source": [
        "len(a)"
      ],
      "metadata": {
        "id": "NRUO2_udhwRB",
        "outputId": "b398a828-efc0-40ef-8208-1fa9e32db3c9",
        "colab": {
          "base_uri": "https://localhost:8080/",
          "height": 179
        }
      },
      "execution_count": null,
      "outputs": [
        {
          "output_type": "error",
          "ename": "TypeError",
          "evalue": "ignored",
          "traceback": [
            "\u001b[0;31m---------------------------------------------------------------------------\u001b[0m",
            "\u001b[0;31mTypeError\u001b[0m                                 Traceback (most recent call last)",
            "\u001b[0;32m<ipython-input-16-1a2e6ec5f1e3>\u001b[0m in \u001b[0;36m<cell line: 1>\u001b[0;34m()\u001b[0m\n\u001b[0;32m----> 1\u001b[0;31m \u001b[0mlen\u001b[0m\u001b[0;34m(\u001b[0m\u001b[0ma\u001b[0m\u001b[0;34m)\u001b[0m\u001b[0;34m\u001b[0m\u001b[0;34m\u001b[0m\u001b[0m\n\u001b[0m",
            "\u001b[0;31mTypeError\u001b[0m: object of type 'int' has no len()"
          ]
        }
      ]
    },
    {
      "cell_type": "markdown",
      "metadata": {
        "id": "0tTgrzMXcnQT"
      },
      "source": [
        "#### String methods  / build in functions for string"
      ]
    },
    {
      "cell_type": "code",
      "execution_count": null,
      "metadata": {
        "id": "ehdx8OJ-cnQU",
        "outputId": "2ae43473-acc8-450f-d7de-b073636c79f4"
      },
      "outputs": [
        {
          "name": "stdout",
          "output_type": "stream",
          "text": [
            "i have a cat\n"
          ]
        }
      ],
      "source": [
        "# upper()\n",
        "text = 'i have a cat'\n",
        "print(text)"
      ]
    },
    {
      "cell_type": "code",
      "execution_count": null,
      "metadata": {
        "id": "dd6u45VmcnQV",
        "outputId": "5b6da6df-657b-49ac-a669-abc1cf2d9637"
      },
      "outputs": [
        {
          "name": "stdout",
          "output_type": "stream",
          "text": [
            "I HAVE A CAT\n"
          ]
        }
      ],
      "source": [
        "print(text.upper())"
      ]
    },
    {
      "cell_type": "code",
      "execution_count": null,
      "metadata": {
        "id": "xJpHFTTscnQV",
        "outputId": "ad32df71-5c9e-4b5b-ca1f-692c856ca220"
      },
      "outputs": [
        {
          "name": "stdout",
          "output_type": "stream",
          "text": [
            "i have a cat\n"
          ]
        }
      ],
      "source": [
        "# lower()\n",
        "text = 'I HaVe a CaT'\n",
        "print(text.lower())"
      ]
    },
    {
      "cell_type": "code",
      "execution_count": null,
      "metadata": {
        "id": "BrljpczecnQb",
        "colab": {
          "base_uri": "https://localhost:8080/"
        },
        "outputId": "045497c5-9cb9-40bf-9fa7-b2fc4ddef73f"
      },
      "outputs": [
        {
          "output_type": "stream",
          "name": "stdout",
          "text": [
            "i have a cat\n"
          ]
        }
      ],
      "source": [
        "#strip --> removes whitespaces\n",
        "# strip()\n",
        "text = '          i have a cat             '\n",
        "print(text.strip())\n"
      ]
    },
    {
      "cell_type": "code",
      "source": [
        "# rstrip()\n",
        "text = '          i have a cat           '\n",
        "print(text.rstrip())\n"
      ],
      "metadata": {
        "colab": {
          "base_uri": "https://localhost:8080/"
        },
        "id": "Z2y6az49cMMu",
        "outputId": "ee17c428-bdb5-4a17-eddb-5395affc3651"
      },
      "execution_count": null,
      "outputs": [
        {
          "output_type": "stream",
          "name": "stdout",
          "text": [
            "          i have a cat\n"
          ]
        }
      ]
    },
    {
      "cell_type": "code",
      "source": [
        "# lstrip()\n",
        "text =  '              i have a cat             '\n",
        "print(text.lstrip())\n"
      ],
      "metadata": {
        "colab": {
          "base_uri": "https://localhost:8080/"
        },
        "id": "W7DsAYGRcWjm",
        "outputId": "19b7e1f9-14b9-4468-c0d8-96f0afbbcdfd"
      },
      "execution_count": null,
      "outputs": [
        {
          "output_type": "stream",
          "name": "stdout",
          "text": [
            "i have a cat             \n"
          ]
        }
      ]
    },
    {
      "cell_type": "code",
      "execution_count": null,
      "metadata": {
        "id": "v3ktRHW4cnQe",
        "outputId": "abdefd45-2ea1-480f-cc20-59f39094ae34",
        "colab": {
          "base_uri": "https://localhost:8080/"
        }
      },
      "outputs": [
        {
          "output_type": "stream",
          "name": "stdout",
          "text": [
            "***************4567890###############\n"
          ]
        }
      ],
      "source": [
        "# strip()\n",
        "text = '***************4567890###############'\n",
        "print(text)\n",
        "new_text = text.rstrip('#').lstrip('*')"
      ]
    },
    {
      "cell_type": "code",
      "execution_count": null,
      "metadata": {
        "id": "OeowKQOucnQf",
        "outputId": "8a51b19d-c441-43fc-d128-20f1694fcaae",
        "colab": {
          "base_uri": "https://localhost:8080/"
        }
      },
      "outputs": [
        {
          "output_type": "stream",
          "name": "stdout",
          "text": [
            "4567890\n"
          ]
        }
      ],
      "source": [
        "print(new_text)"
      ]
    },
    {
      "cell_type": "code",
      "execution_count": null,
      "metadata": {
        "id": "hQ5xPLjBcnQf",
        "outputId": "b01ff2b4-c225-4dfe-a8e2-7d99f76b4f86",
        "colab": {
          "base_uri": "https://localhost:8080/"
        }
      },
      "outputs": [
        {
          "output_type": "stream",
          "name": "stdout",
          "text": [
            "3\n"
          ]
        }
      ],
      "source": [
        "# count()\n",
        "text = 'this is a sample sentence in this example'\n",
        "print(text.count('is'))"
      ]
    },
    {
      "cell_type": "code",
      "execution_count": null,
      "metadata": {
        "id": "NBdlmY30cnQf",
        "outputId": "3f1fbf82-6bf0-4f1b-b0e3-1d151c1ffeb7",
        "colab": {
          "base_uri": "https://localhost:8080/"
        }
      },
      "outputs": [
        {
          "output_type": "stream",
          "name": "stdout",
          "text": [
            "6\n"
          ]
        }
      ],
      "source": [
        "\n",
        "print(text.count('e',5))"
      ]
    },
    {
      "cell_type": "code",
      "execution_count": null,
      "metadata": {
        "id": "pp2WCJVmcnQf",
        "outputId": "08f6a7aa-ea61-4c30-e234-72f6d61aaaf4",
        "colab": {
          "base_uri": "https://localhost:8080/",
          "height": 143
        }
      },
      "outputs": [
        {
          "output_type": "error",
          "ename": "IndentationError",
          "evalue": "ignored",
          "traceback": [
            "\u001b[0;36m  File \u001b[0;32m\"<ipython-input-28-2e494d3e3967>\"\u001b[0;36m, line \u001b[0;32m2\u001b[0m\n\u001b[0;31m    B = 'Analysis'\u001b[0m\n\u001b[0m    ^\u001b[0m\n\u001b[0;31mIndentationError\u001b[0m\u001b[0;31m:\u001b[0m unexpected indent\n"
          ]
        }
      ],
      "source": [
        "A = 'Data'\n",
        "  B = 'Analysis'  # indentation :  spacing"
      ]
    },
    {
      "cell_type": "code",
      "execution_count": null,
      "metadata": {
        "id": "Mr26Q0B6cnQh",
        "outputId": "65489f67-23dc-4b3e-9ad1-8e1c03e1ad9b"
      },
      "outputs": [
        {
          "name": "stdout",
          "output_type": "stream",
          "text": [
            "Let us learn Data Analysis using Python\n"
          ]
        }
      ],
      "source": [
        "A = 'Data'\n",
        "B = 'Analysis'\n",
        "C = 'Python'\n",
        "\n",
        "print('Let us learn ' + '{0} {1} using {2}'.format(A,B,C))"
      ]
    },
    {
      "cell_type": "code",
      "execution_count": null,
      "metadata": {
        "id": "IuaGNxk2cnQi",
        "outputId": "a1f6838d-b0fa-4240-a6a4-78323511ac50",
        "colab": {
          "base_uri": "https://localhost:8080/"
        }
      },
      "outputs": [
        {
          "output_type": "stream",
          "name": "stdout",
          "text": [
            "bandra,mumbai\n"
          ]
        }
      ],
      "source": [
        "input_var = 'bmaunmdbraai'\n",
        "message1 = input_var[0::2]\n",
        "message2 = input_var[1::2]\n",
        "\n",
        "print(message1 + ',' + message2)\n"
      ]
    },
    {
      "cell_type": "code",
      "source": [
        "x= 'Hello,world!'\n",
        "x.replace( 'H', 'Y')"
      ],
      "metadata": {
        "colab": {
          "base_uri": "https://localhost:8080/",
          "height": 36
        },
        "id": "BiTwF0hKq_Ea",
        "outputId": "2c42213f-5976-43ec-e2e6-0dbe7729c149"
      },
      "execution_count": 53,
      "outputs": [
        {
          "output_type": "execute_result",
          "data": {
            "text/plain": [
              "'Yello,world!'"
            ],
            "application/vnd.google.colaboratory.intrinsic+json": {
              "type": "string"
            }
          },
          "metadata": {},
          "execution_count": 53
        }
      ]
    }
  ],
  "metadata": {
    "kernelspec": {
      "display_name": "Python 3",
      "language": "python",
      "name": "python3"
    },
    "language_info": {
      "codemirror_mode": {
        "name": "ipython",
        "version": 3
      },
      "file_extension": ".py",
      "mimetype": "text/x-python",
      "name": "python",
      "nbconvert_exporter": "python",
      "pygments_lexer": "ipython3",
      "version": "3.7.3"
    },
    "colab": {
      "provenance": [],
      "include_colab_link": true
    }
  },
  "nbformat": 4,
  "nbformat_minor": 0
}